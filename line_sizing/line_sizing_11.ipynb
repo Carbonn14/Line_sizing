{
 "cells": [
  {
   "cell_type": "markdown",
   "id": "379d3c20",
   "metadata": {},
   "source": [
    "Line sizing\n",
    "\n",
    "Client: Internal\\\n",
    "Project: Hydraulics in Python\\\n",
    "Calc: 2023-Calc-001\\\n",
    "Created By: P.Wikhe\\\n",
    "Guided by: K. Dorma\\\n",
    "Date: September 13, 2023\n",
    "\n",
    "Revision history:\n",
    "\n",
    "|Revision | Date | Description | By | Reviewer|\n",
    "| :-------| :----|:------------|:---|:--------|\n",
    "|    1.0  | 13 Sept. 2023 | Demo code | PW | KCD |\n"
   ]
  },
  {
   "cell_type": "code",
   "execution_count": 1,
   "id": "e55bd502",
   "metadata": {},
   "outputs": [],
   "source": [
    "#Importing libraries\n",
    "import numpy as np\n",
    "import pandas as pd\n",
    "import math\n",
    "from scipy import interpolate"
   ]
  },
  {
   "cell_type": "markdown",
   "id": "b96f260f",
   "metadata": {},
   "source": [
    "## Inputs"
   ]
  },
  {
   "cell_type": "code",
   "execution_count": 2,
   "id": "5c9ea3c4",
   "metadata": {},
   "outputs": [],
   "source": [
    "pi = math.pi"
   ]
  },
  {
   "cell_type": "code",
   "execution_count": 3,
   "id": "66e0ce3d",
   "metadata": {},
   "outputs": [],
   "source": [
    "pipingFile = (r'C:\\Users\\prati\\Downloads\\line_sizing-main\\line_sizing\\data\\input_2.xlsx')\n",
    "roughnessFile = (r'C:\\Users\\prati\\Downloads\\line_sizing-main\\line_sizing\\data\\pr_2.xlsx')\n",
    "pipeIDfile = (r'C:\\Users\\prati\\Downloads\\line_sizing-main\\line_sizing\\data\\id_2.xlsx')\n",
    "\n"
   ]
  },
  {
   "cell_type": "markdown",
   "id": "4cd883e7",
   "metadata": {},
   "source": [
    "## Get common data and piping data"
   ]
  },
  {
   "cell_type": "code",
   "execution_count": 4,
   "id": "67d69b1d",
   "metadata": {},
   "outputs": [],
   "source": [
    "roughness = pd.ExcelFile(roughnessFile)\n",
    "r_table =roughness.parse('pipeRoughness')\n",
    "\n",
    "pipeID = pd.ExcelFile(pipeIDfile)\n",
    "id_table=pipeID.parse('pipeIDlist')\n",
    "\n",
    "piping = pd.ExcelFile(pipingFile)\n",
    "input_table=piping.parse('lineSizingInput')"
   ]
  },
  {
   "cell_type": "markdown",
   "id": "d1378060",
   "metadata": {},
   "source": [
    "# Formula for diameter in terms of DP per 100 m\n",
    "\n",
    "Let L = 100 m.\n",
    "\n",
    "$\\frac{\\Delta p}{\\rho} = f\\left(\\frac{L}{D}\\right) \\frac{v^2}{2}$\n",
    "\n",
    "$ v = \\frac{m}{\\rho (1/4) \\pi d^2} $\n",
    "\n",
    "$ v = \\frac{4 m}{\\rho \\pi d^2} $\n",
    "\n",
    "$\\frac{\\Delta p}{\\rho} = f\\left(\\frac{L}{D}\\right) \\frac{1}{2} \\left(\\frac{4 m}{\\rho \\pi d^2}\\right)^2$\n",
    "\n",
    "$\\frac{\\Delta p}{\\rho} = f\\left(\\frac{L}{D}\\right) \\frac{16 m^2}{2 \\rho^2 \\pi^2 D^4}$\n",
    "\n",
    "$\\Delta p = 8 f L \\frac{m^2}{\\rho \\pi^2 D^5}$\n",
    "\n",
    "or\n",
    "\n",
    "$D^5 = 8 f L \\frac{m^2}{\\rho \\pi^2 \\Delta p_{100}}$\n",
    "\n",
    "where L = 100 m.\n",
    "\n",
    "then we calculate\n",
    "\n",
    "$D = (D^5)^{1/5}$\n"
   ]
  },
  {
   "cell_type": "markdown",
   "id": "0457e1f1",
   "metadata": {},
   "source": [
    "## Bunch of functions"
   ]
  },
  {
   "cell_type": "code",
   "execution_count": 5,
   "id": "d359a044",
   "metadata": {},
   "outputs": [],
   "source": [
    "def getReynolds(mdot_kgs, id_mm, visc_mpas, dens_kgm3):\n",
    "    # Re = rho u d / mu\n",
    "    # u = mdot / (rho pi/4 * d2)\n",
    "    # Re = rho d (mdot / rho pi/4 d2) / mu\n",
    "    # Re = 4 mdot / mu.d.pi\n",
    "    pi = math.pi\n",
    "        \n",
    "    return (4*mdot_kgs/(pi*(visc_mpas/1000)*(id_mm/1000)))\n",
    "#    getReynolds = ((1000000*4*mdot/(3600*pi*u*id1))\n"
   ]
  },
  {
   "cell_type": "code",
   "execution_count": 6,
   "id": "014ffe70",
   "metadata": {},
   "outputs": [],
   "source": [
    "def colebrook_solver(Re,rr):\n",
    "    # Re is reynolds number\n",
    "    # rr is relative roughness\n",
    "    max_iter = 10  # 10 iterations is lots for sucessive substituion\n",
    "    to = 0.000001\n",
    "    f_guess = Re*0.0 + 0.01   # initial guess for all values of friction factor\n",
    "    for _ in range(max_iter):\n",
    "        rhs=-2*np.log10(rr/3.7 + 2.51/(Re*np.sqrt(f_guess)))\n",
    "        f_next=1/(rhs**2)\n",
    "        f_guess=f_next\n",
    "        \n",
    "    return f_next\n"
   ]
  },
  {
   "cell_type": "code",
   "execution_count": 7,
   "id": "2c849937",
   "metadata": {},
   "outputs": [],
   "source": [
    "def sizeDP100(m_new, dp, d, u, e):\n",
    "    # m_new mass flow kg/s\n",
    "    # dp is Pa per 100 m\n",
    "    # u is viscoisty in pa.s\n",
    "    # e is roughness in mm\n",
    "    # return value is pipe ID mm\n",
    "    pi = math.pi\n",
    "    \n",
    "    f  = m_new*0.0 + 0.01 # our guess for all friction factors\n",
    "    L = 100.0 # pipe length 100 m used for DP\n",
    "    for x in range(10):\n",
    "        D5 = (8*L*f*m_new*m_new)/(d*pi*pi*dp)\n",
    "        D = pow(D5,0.2)\n",
    "        idmm = D*1000\n",
    "        rr = e/idmm\n",
    "        Re = getReynolds(m_new, idmm, u, d)\n",
    "        ff = colebrook_solver(Re, rr)\n",
    "        f  = pd.Series(ff)\n",
    "    return idmm"
   ]
  },
  {
   "cell_type": "code",
   "execution_count": 8,
   "id": "6a105fd0",
   "metadata": {},
   "outputs": [],
   "source": [
    "def getListLargerNPS(self,npsList): # self or df is linesNeeded\n",
    "    # df has the mmNeeded for the ID that we are looking for\n",
    "    # I don't like cycling through the entire list, but it works\n",
    "    # using interpolation is a simple and dirty way to find the next higher value\n",
    "\n",
    "    self[\"NPS\"] = 0.0 # add NPS to the df, the decimal point is needed to initiate this column as floating point\n",
    "    self[\"IDmm\"] = 0.0 # add ID to the df\n",
    "\n",
    "\n",
    "    for i,row in self.iterrows():\n",
    "        theSchedule = row[\"Schedule\"]\n",
    "        shortList = npsList[npsList[\"Schedule\"]==theSchedule]\n",
    "        theID = self.at[i,\"reqdIDmm\"]\n",
    "        # our interpolation functions\n",
    "        fNPS = interpolate.interp1d(shortList[\"IDmm\"],shortList[\"NPS\"],kind='next')\n",
    "        fIDmm = interpolate.interp1d(shortList[\"IDmm\"],shortList[\"IDmm\"],kind='next')\n",
    "        # and now we interpolate\n",
    "        self.at[i,\"NPS\"] = fNPS(theID)\n",
    "        self.at[i,\"IDmm\"] = fIDmm(theID)\n",
    "    return (0)"
   ]
  },
  {
   "cell_type": "code",
   "execution_count": 9,
   "id": "92bb8a10",
   "metadata": {},
   "outputs": [],
   "source": [
    "def sizePiping(input_table, id_table, r_table):\n",
    "    # given the inputs, do the line sizing math\n",
    "    \n",
    "    interResults = input_table[[\"Segment\",\"Schedule\",\"vlimit_ms\"]].copy()\n",
    "    \n",
    "    #Erosional velocity\n",
    "    interResults[\"vmaxErosion\"] = input_table['frictionCsi']/np.sqrt(input_table['density_kgm3'])\n",
    "    #Selecting the min. of erosional velocity and hard limit velocity.\n",
    "    interResults[\"velocMax\"] = interResults[['vlimit_ms','vmaxErosion']].min(axis=1)\n",
    "\n",
    "    #New flow rate = Base flow rate * Flow margin\n",
    "    interResults[\"m_new\"] = input_table['massFlow_kghr'] * input_table['flowMargin']/3600.0 # this is in kg/s\n",
    "\n",
    "    #corss section area of pipe based on permissible max velocity\n",
    "    interResults[\"S1\"] = interResults[\"m_new\"] / input_table['density_kgm3'] / interResults[\"velocMax\"]\n",
    "    interResults[\"maxVelocID\"] = 1000*2*np.sqrt(interResults[\"S1\"]/pi) # diameter in mm\n",
    "    \n",
    "    merged=pd.merge(input_table,r_table,on='Material') # find pipe roughness based on material\n",
    "    e = merged['roughnessMM']\n",
    "    \n",
    "    interResults[\"dp100IDmm\"] = sizeDP100(interResults[\"m_new\"],input_table['kPaPer100m']*1000,input_table['density_kgm3'],input_table['viscosity_cP'],e)\n",
    "    \n",
    "    #Selecting the min. of erosional velocity and hard limit velocity.\n",
    "    interResults[\"reqdIDmm\"] = interResults[['maxVelocID','dp100IDmm']].min(axis=1)\n",
    "    getListLargerNPS(interResults,id_table)\n",
    "    \n",
    "    return (interResults)\n"
   ]
  },
  {
   "cell_type": "code",
   "execution_count": 10,
   "id": "191dbe3e",
   "metadata": {},
   "outputs": [
    {
     "data": {
      "text/html": [
       "<div>\n",
       "<style scoped>\n",
       "    .dataframe tbody tr th:only-of-type {\n",
       "        vertical-align: middle;\n",
       "    }\n",
       "\n",
       "    .dataframe tbody tr th {\n",
       "        vertical-align: top;\n",
       "    }\n",
       "\n",
       "    .dataframe thead th {\n",
       "        text-align: right;\n",
       "    }\n",
       "</style>\n",
       "<table border=\"1\" class=\"dataframe\">\n",
       "  <thead>\n",
       "    <tr style=\"text-align: right;\">\n",
       "      <th></th>\n",
       "      <th>Segment</th>\n",
       "      <th>Schedule</th>\n",
       "      <th>vlimit_ms</th>\n",
       "      <th>vmaxErosion</th>\n",
       "      <th>velocMax</th>\n",
       "      <th>m_new</th>\n",
       "      <th>S1</th>\n",
       "      <th>maxVelocID</th>\n",
       "      <th>dp100IDmm</th>\n",
       "      <th>reqdIDmm</th>\n",
       "      <th>NPS</th>\n",
       "      <th>IDmm</th>\n",
       "    </tr>\n",
       "  </thead>\n",
       "  <tbody>\n",
       "    <tr>\n",
       "      <th>0</th>\n",
       "      <td>A</td>\n",
       "      <td>SCH10S</td>\n",
       "      <td>10</td>\n",
       "      <td>61.237244</td>\n",
       "      <td>10.000000</td>\n",
       "      <td>4.807222</td>\n",
       "      <td>0.080120</td>\n",
       "      <td>319.393838</td>\n",
       "      <td>151.063558</td>\n",
       "      <td>151.063558</td>\n",
       "      <td>6.0</td>\n",
       "      <td>161.4678</td>\n",
       "    </tr>\n",
       "    <tr>\n",
       "      <th>1</th>\n",
       "      <td>B</td>\n",
       "      <td>SCH10S</td>\n",
       "      <td>5</td>\n",
       "      <td>3.492969</td>\n",
       "      <td>3.492969</td>\n",
       "      <td>30.050000</td>\n",
       "      <td>0.007169</td>\n",
       "      <td>95.540894</td>\n",
       "      <td>161.304470</td>\n",
       "      <td>95.540894</td>\n",
       "      <td>4.0</td>\n",
       "      <td>108.2040</td>\n",
       "    </tr>\n",
       "    <tr>\n",
       "      <th>2</th>\n",
       "      <td>C</td>\n",
       "      <td>SCH10S</td>\n",
       "      <td>12</td>\n",
       "      <td>3.492969</td>\n",
       "      <td>3.492969</td>\n",
       "      <td>30.050000</td>\n",
       "      <td>0.007169</td>\n",
       "      <td>95.540894</td>\n",
       "      <td>115.878422</td>\n",
       "      <td>95.540894</td>\n",
       "      <td>4.0</td>\n",
       "      <td>108.2040</td>\n",
       "    </tr>\n",
       "    <tr>\n",
       "      <th>3</th>\n",
       "      <td>D</td>\n",
       "      <td>SCH80</td>\n",
       "      <td>50</td>\n",
       "      <td>81.649658</td>\n",
       "      <td>50.000000</td>\n",
       "      <td>0.277778</td>\n",
       "      <td>0.000926</td>\n",
       "      <td>34.335485</td>\n",
       "      <td>41.152323</td>\n",
       "      <td>34.335485</td>\n",
       "      <td>1.5</td>\n",
       "      <td>38.1000</td>\n",
       "    </tr>\n",
       "  </tbody>\n",
       "</table>\n",
       "</div>"
      ],
      "text/plain": [
       "  Segment Schedule  vlimit_ms  vmaxErosion   velocMax      m_new        S1  \\\n",
       "0       A   SCH10S         10    61.237244  10.000000   4.807222  0.080120   \n",
       "1       B   SCH10S          5     3.492969   3.492969  30.050000  0.007169   \n",
       "2       C   SCH10S         12     3.492969   3.492969  30.050000  0.007169   \n",
       "3       D    SCH80         50    81.649658  50.000000   0.277778  0.000926   \n",
       "\n",
       "   maxVelocID   dp100IDmm    reqdIDmm  NPS      IDmm  \n",
       "0  319.393838  151.063558  151.063558  6.0  161.4678  \n",
       "1   95.540894  161.304470   95.540894  4.0  108.2040  \n",
       "2   95.540894  115.878422   95.540894  4.0  108.2040  \n",
       "3   34.335485   41.152323   34.335485  1.5   38.1000  "
      ]
     },
     "execution_count": 10,
     "metadata": {},
     "output_type": "execute_result"
    }
   ],
   "source": [
    "interResults = sizePiping(input_table, id_table, r_table)\n",
    "interResults"
   ]
  },
  {
   "cell_type": "code",
   "execution_count": null,
   "id": "6ce1cfff",
   "metadata": {},
   "outputs": [],
   "source": []
  }
 ],
 "metadata": {
  "kernelspec": {
   "display_name": "Python 3 (ipykernel)",
   "language": "python",
   "name": "python3"
  },
  "language_info": {
   "codemirror_mode": {
    "name": "ipython",
    "version": 3
   },
   "file_extension": ".py",
   "mimetype": "text/x-python",
   "name": "python",
   "nbconvert_exporter": "python",
   "pygments_lexer": "ipython3",
   "version": "3.11.5"
  }
 },
 "nbformat": 4,
 "nbformat_minor": 5
}
